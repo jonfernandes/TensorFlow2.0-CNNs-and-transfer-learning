{
  "nbformat": 4,
  "nbformat_minor": 0,
  "metadata": {
    "accelerator": "GPU",
    "colab": {
      "name": "TF2.0_transfer_learning NOTES.ipynb",
      "provenance": [],
      "collapsed_sections": [],
      "toc_visible": true
    },
    "kernelspec": {
      "display_name": "Python 3",
      "language": "python",
      "name": "python3"
    },
    "language_info": {
      "codemirror_mode": {
        "name": "ipython",
        "version": 3
      },
      "file_extension": ".py",
      "mimetype": "text/x-python",
      "name": "python",
      "nbconvert_exporter": "python",
      "pygments_lexer": "ipython3",
      "version": "3.8.5"
    }
  },
  "cells": [
    {
      "cell_type": "markdown",
      "metadata": {
        "id": "Nkz5VftkGHH6"
      },
      "source": [
        "## TensorFlow Hub"
      ]
    },
    {
      "cell_type": "code",
      "metadata": {
        "id": "j7FHh2yx-foQ"
      },
      "source": [
        "import tensorflow as tf\n",
        "import tensorflow_hub as hub\n",
        "import numpy as np\n",
        "import matplotlib.pylab as plt"
      ],
      "execution_count": 1,
      "outputs": []
    },
    {
      "cell_type": "code",
      "metadata": {
        "colab": {
          "base_uri": "https://localhost:8080/"
        },
        "id": "NNiFmq9Z-q4T",
        "outputId": "9904e2f8-aa49-4aec-addd-bb3d40b063d5"
      },
      "source": [
        "data_dir = tf.keras.utils.get_file(\n",
        "    'flower_photos',\n",
        "    'https://storage.googleapis.com/download.tensorflow.org/example_images/flower_photos.tgz',\n",
        "    untar=True)"
      ],
      "execution_count": 2,
      "outputs": [
        {
          "output_type": "stream",
          "name": "stdout",
          "text": [
            "Downloading data from https://storage.googleapis.com/download.tensorflow.org/example_images/flower_photos.tgz\n",
            "228818944/228813984 [==============================] - 2s 0us/step\n",
            "228827136/228813984 [==============================] - 2s 0us/step\n"
          ]
        }
      ]
    },
    {
      "cell_type": "code",
      "metadata": {
        "colab": {
          "base_uri": "https://localhost:8080/",
          "height": 35
        },
        "id": "C0ZH8ZlE-5Z7",
        "outputId": "49795d4e-5798-424a-ac52-cc2ba8c55f88"
      },
      "source": [
        "data_dir"
      ],
      "execution_count": 3,
      "outputs": [
        {
          "output_type": "execute_result",
          "data": {
            "application/vnd.google.colaboratory.intrinsic+json": {
              "type": "string"
            },
            "text/plain": [
              "'/root/.keras/datasets/flower_photos'"
            ]
          },
          "metadata": {},
          "execution_count": 3
        }
      ]
    },
    {
      "cell_type": "code",
      "metadata": {
        "colab": {
          "base_uri": "https://localhost:8080/"
        },
        "id": "p6kaCFyq_gr_",
        "outputId": "ece2b0e7-f062-4adf-f9b7-9400736903cc"
      },
      "source": [
        "!ls -lrt /root/.keras/datasets/flower_photos"
      ],
      "execution_count": 4,
      "outputs": [
        {
          "output_type": "stream",
          "name": "stdout",
          "text": [
            "total 612\n",
            "-rw-r----- 1 270850 5000 418049 Feb  9  2016 LICENSE.txt\n",
            "drwx------ 2 270850 5000  49152 Feb 10  2016 tulips\n",
            "drwx------ 2 270850 5000  36864 Feb 10  2016 sunflowers\n",
            "drwx------ 2 270850 5000  36864 Feb 10  2016 roses\n",
            "drwx------ 2 270850 5000  49152 Feb 10  2016 dandelion\n",
            "drwx------ 2 270850 5000  32768 Feb 10  2016 daisy\n"
          ]
        }
      ]
    },
    {
      "cell_type": "markdown",
      "metadata": {
        "id": "pe_Cerv-BKad"
      },
      "source": [
        "Now we are going to use a generator object and invoke its `flow_from_directory` to handle the reshaping process."
      ]
    },
    {
      "cell_type": "code",
      "metadata": {
        "id": "pyfHMZZoBQ8N"
      },
      "source": [
        "pixels =224\n",
        "BATCH_SIZE = 32 \n",
        "IMAGE_SIZE = (pixels, pixels)\n",
        "NUM_CLASSES = 5"
      ],
      "execution_count": 5,
      "outputs": []
    },
    {
      "cell_type": "code",
      "metadata": {
        "colab": {
          "base_uri": "https://localhost:8080/"
        },
        "id": "3OEgg0rHAHd8",
        "outputId": "c8d40ece-cb9e-450f-d634-e4ae5db69a06"
      },
      "source": [
        "datagen_kwargs = dict(rescale=1./255, validation_split=.20)\n",
        "dataflow_kwargs = dict(target_size=IMAGE_SIZE, batch_size=BATCH_SIZE,\n",
        "                   interpolation=\"bilinear\")\n",
        "\n",
        "valid_datagen = tf.keras.preprocessing.image.ImageDataGenerator(\n",
        "    **datagen_kwargs)\n",
        "valid_generator = valid_datagen.flow_from_directory(\n",
        "    data_dir, subset=\"validation\", shuffle=False, **dataflow_kwargs)\n",
        "\n",
        "train_datagen = valid_datagen\n",
        "train_generator = train_datagen.flow_from_directory(\n",
        "    data_dir, subset=\"training\", shuffle=True, **dataflow_kwargs)"
      ],
      "execution_count": 6,
      "outputs": [
        {
          "output_type": "stream",
          "name": "stdout",
          "text": [
            "Found 731 images belonging to 5 classes.\n",
            "Found 2939 images belonging to 5 classes.\n"
          ]
        }
      ]
    },
    {
      "cell_type": "markdown",
      "metadata": {
        "id": "LMAtfhRUaFRN"
      },
      "source": [
        "The interpolation argument indicates that the generator needs to resample the image data to target_size, which is 224 × 224 pixels."
      ]
    },
    {
      "cell_type": "markdown",
      "metadata": {
        "id": "zHg_Q2V_F69l"
      },
      "source": [
        "Find label index and order of classes"
      ]
    },
    {
      "cell_type": "code",
      "metadata": {
        "id": "jt-3x2iVDRdL"
      },
      "source": [
        "labels_idx = (train_generator.class_indices)\n",
        "idx_labels = dict((v,k) for k,v in labels_idx.items())"
      ],
      "execution_count": 7,
      "outputs": []
    },
    {
      "cell_type": "code",
      "metadata": {
        "colab": {
          "base_uri": "https://localhost:8080/"
        },
        "id": "J5Nk05zMF83H",
        "outputId": "de99900d-b6f1-4d56-e098-d047082244d9"
      },
      "source": [
        "idx_labels"
      ],
      "execution_count": 8,
      "outputs": [
        {
          "output_type": "execute_result",
          "data": {
            "text/plain": [
              "{0: 'daisy', 1: 'dandelion', 2: 'roses', 3: 'sunflowers', 4: 'tulips'}"
            ]
          },
          "metadata": {},
          "execution_count": 8
        }
      ]
    },
    {
      "cell_type": "code",
      "metadata": {
        "id": "X-dyL_z0F9zJ"
      },
      "source": [
        "model = tf.keras.Sequential([\n",
        "    tf.keras.layers.InputLayer(input_shape=IMAGE_SIZE + (3,)),\n",
        "    hub.KerasLayer(\"https://tfhub.dev/google/imagenet/resnet_v1_101/feature_vector/4\",\n",
        "                   trainable=False),\n",
        "    tf.keras.layers.Dense(NUM_CLASSES, activation='softmax', name = 'flower_class')\n",
        "])\n",
        "model.build([None, 224, 224, 3])"
      ],
      "execution_count": 9,
      "outputs": []
    },
    {
      "cell_type": "markdown",
      "metadata": {
        "id": "DkOVo1vcafPC"
      },
      "source": [
        "- **trainable** - False. This indicates we want to re-use the current values from the pretrained model"
      ]
    },
    {
      "cell_type": "code",
      "metadata": {
        "colab": {
          "base_uri": "https://localhost:8080/"
        },
        "id": "PWuE_v74ImFL",
        "outputId": "f0818670-e996-4965-f5f8-4ab0a3ac9421"
      },
      "source": [
        "model.summary()"
      ],
      "execution_count": 10,
      "outputs": [
        {
          "output_type": "stream",
          "name": "stdout",
          "text": [
            "Model: \"sequential\"\n",
            "_________________________________________________________________\n",
            "Layer (type)                 Output Shape              Param #   \n",
            "=================================================================\n",
            "keras_layer (KerasLayer)     (None, 2048)              42605504  \n",
            "_________________________________________________________________\n",
            "flower_class (Dense)         (None, 5)                 10245     \n",
            "=================================================================\n",
            "Total params: 42,615,749\n",
            "Trainable params: 10,245\n",
            "Non-trainable params: 42,605,504\n",
            "_________________________________________________________________\n"
          ]
        }
      ]
    },
    {
      "cell_type": "code",
      "metadata": {
        "id": "HTrzbUVJI8e_",
        "colab": {
          "base_uri": "https://localhost:8080/"
        },
        "outputId": "32f2291d-4a9f-4886-8169-457306876663"
      },
      "source": [
        "model.compile(\n",
        "  optimizer=tf.keras.optimizers.SGD(lr=0.005, momentum=0.9), \n",
        "  loss=tf.keras.losses.CategoricalCrossentropy(from_logits=True, label_smoothing=0.1),\n",
        "  metrics=['accuracy'])"
      ],
      "execution_count": 11,
      "outputs": [
        {
          "output_type": "stream",
          "name": "stderr",
          "text": [
            "/usr/local/lib/python3.7/dist-packages/keras/optimizer_v2/optimizer_v2.py:356: UserWarning: The `lr` argument is deprecated, use `learning_rate` instead.\n",
            "  \"The `lr` argument is deprecated, use `learning_rate` instead.\")\n"
          ]
        }
      ]
    },
    {
      "cell_type": "markdown",
      "metadata": {
        "id": "3e8Lpy1AgJ6c"
      },
      "source": [
        "label_smoothing is a regularization technique to help prevent over-fitting."
      ]
    },
    {
      "cell_type": "code",
      "metadata": {
        "colab": {
          "base_uri": "https://localhost:8080/"
        },
        "id": "PUDFTncAKacT",
        "outputId": "b64035a1-08d5-40cd-8c6f-4cb23470a629"
      },
      "source": [
        "steps_per_epoch = train_generator.samples // train_generator.batch_size\n",
        "validation_steps = valid_generator.samples // valid_generator.batch_size\n",
        "hist = model.fit(\n",
        "    train_generator,\n",
        "    epochs=5, steps_per_epoch=steps_per_epoch,\n",
        "    validation_data=valid_generator,\n",
        "    validation_steps=validation_steps).history"
      ],
      "execution_count": 12,
      "outputs": [
        {
          "output_type": "stream",
          "name": "stdout",
          "text": [
            "Epoch 1/5\n"
          ]
        },
        {
          "output_type": "stream",
          "name": "stderr",
          "text": [
            "/usr/local/lib/python3.7/dist-packages/keras/backend.py:4847: UserWarning: \"`categorical_crossentropy` received `from_logits=True`, but the `output` argument was produced by a sigmoid or softmax activation and thus does not represent logits. Was this intended?\"\n",
            "  '\"`categorical_crossentropy` received `from_logits=True`, but '\n"
          ]
        },
        {
          "output_type": "stream",
          "name": "stdout",
          "text": [
            "91/91 [==============================] - 72s 389ms/step - loss: 1.0140 - accuracy: 0.7950 - val_loss: 0.7499 - val_accuracy: 0.8551\n",
            "Epoch 2/5\n",
            "91/91 [==============================] - 33s 363ms/step - loss: 0.6395 - accuracy: 0.9106 - val_loss: 0.7288 - val_accuracy: 0.8423\n",
            "Epoch 3/5\n",
            "91/91 [==============================] - 33s 365ms/step - loss: 0.5859 - accuracy: 0.9405 - val_loss: 0.7170 - val_accuracy: 0.8651\n",
            "Epoch 4/5\n",
            "91/91 [==============================] - 33s 366ms/step - loss: 0.5497 - accuracy: 0.9628 - val_loss: 0.7150 - val_accuracy: 0.8565\n",
            "Epoch 5/5\n",
            "91/91 [==============================] - 33s 366ms/step - loss: 0.5310 - accuracy: 0.9690 - val_loss: 0.7174 - val_accuracy: 0.8580\n"
          ]
        }
      ]
    },
    {
      "cell_type": "code",
      "metadata": {
        "id": "YqeFcZhLKcjM"
      },
      "source": [
        "sample_test_images, ground_truth_labels = next(valid_generator)"
      ],
      "execution_count": 13,
      "outputs": []
    },
    {
      "cell_type": "code",
      "metadata": {
        "colab": {
          "base_uri": "https://localhost:8080/"
        },
        "id": "WZUZigTd9Qkq",
        "outputId": "d053f3d4-73c3-4f5c-dcc7-4c31b9526ca9"
      },
      "source": [
        "type(sample_test_images)"
      ],
      "execution_count": 14,
      "outputs": [
        {
          "output_type": "execute_result",
          "data": {
            "text/plain": [
              "numpy.ndarray"
            ]
          },
          "metadata": {},
          "execution_count": 14
        }
      ]
    },
    {
      "cell_type": "code",
      "metadata": {
        "colab": {
          "base_uri": "https://localhost:8080/"
        },
        "id": "oTPXGs4J5Fmd",
        "outputId": "ce3f9352-bcd7-4abc-cc3b-c489a0fd019c"
      },
      "source": [
        "len(ground_truth_labels)"
      ],
      "execution_count": 15,
      "outputs": [
        {
          "output_type": "execute_result",
          "data": {
            "text/plain": [
              "32"
            ]
          },
          "metadata": {},
          "execution_count": 15
        }
      ]
    },
    {
      "cell_type": "code",
      "metadata": {
        "id": "1WJNFa765HoX"
      },
      "source": [
        "prediction = model.predict(valid_generator)"
      ],
      "execution_count": 16,
      "outputs": []
    },
    {
      "cell_type": "code",
      "metadata": {
        "colab": {
          "base_uri": "https://localhost:8080/"
        },
        "id": "iLWA4M7_CdD0",
        "outputId": "90ba476e-f81d-4367-bbbe-489ab61be59a"
      },
      "source": [
        "len(prediction)"
      ],
      "execution_count": 17,
      "outputs": [
        {
          "output_type": "execute_result",
          "data": {
            "text/plain": [
              "731"
            ]
          },
          "metadata": {},
          "execution_count": 17
        }
      ]
    },
    {
      "cell_type": "code",
      "metadata": {
        "colab": {
          "base_uri": "https://localhost:8080/"
        },
        "id": "9vxnJPAm6DhO",
        "outputId": "ee64ae04-b9c3-454b-ded5-29c86584e8d6"
      },
      "source": [
        "prediction"
      ],
      "execution_count": 18,
      "outputs": [
        {
          "output_type": "execute_result",
          "data": {
            "text/plain": [
              "array([[0.7880899 , 0.01445665, 0.01071287, 0.14030205, 0.04643861],\n",
              "       [0.9106453 , 0.00757415, 0.00268174, 0.0500952 , 0.02900355],\n",
              "       [0.79362607, 0.0648425 , 0.02009246, 0.09089768, 0.03054124],\n",
              "       ...,\n",
              "       [0.04388575, 0.01358517, 0.04266402, 0.02076738, 0.87909764],\n",
              "       [0.00564117, 0.0105213 , 0.00117559, 0.0023402 , 0.9803217 ],\n",
              "       [0.05844356, 0.1931759 , 0.09691954, 0.0413634 , 0.61009765]],\n",
              "      dtype=float32)"
            ]
          },
          "metadata": {},
          "execution_count": 18
        }
      ]
    },
    {
      "cell_type": "code",
      "metadata": {
        "id": "NEzvciJQ6FRN"
      },
      "source": [
        "labelings = tf.math.argmax(prediction, axis = -1)"
      ],
      "execution_count": 19,
      "outputs": []
    },
    {
      "cell_type": "code",
      "metadata": {
        "id": "kvN0Ql6-8eQN"
      },
      "source": [
        "predicted_idx = tf.math.argmax(prediction, axis = -1)"
      ],
      "execution_count": 20,
      "outputs": []
    },
    {
      "cell_type": "code",
      "metadata": {
        "colab": {
          "base_uri": "https://localhost:8080/"
        },
        "id": "Ajyd7Xlw8hZw",
        "outputId": "4af7379e-78b6-41b6-fe52-c0a1bebaae70"
      },
      "source": [
        "predicted_idx"
      ],
      "execution_count": 21,
      "outputs": [
        {
          "output_type": "execute_result",
          "data": {
            "text/plain": [
              "<tf.Tensor: shape=(731,), dtype=int64, numpy=\n",
              "array([0, 0, 0, 0, 0, 0, 0, 0, 0, 0, 0, 0, 0, 0, 0, 0, 0, 0, 0, 0, 0, 0,\n",
              "       0, 0, 1, 0, 0, 0, 0, 0, 0, 0, 0, 0, 0, 3, 0, 0, 0, 0, 0, 0, 0, 0,\n",
              "       0, 0, 0, 0, 0, 0, 0, 0, 0, 0, 0, 0, 0, 0, 0, 0, 0, 0, 0, 0, 0, 0,\n",
              "       0, 4, 0, 0, 0, 0, 0, 0, 0, 3, 0, 0, 0, 0, 0, 0, 0, 0, 0, 0, 0, 0,\n",
              "       0, 0, 0, 0, 0, 0, 0, 0, 0, 0, 0, 0, 0, 0, 0, 0, 0, 3, 0, 0, 0, 0,\n",
              "       0, 0, 0, 0, 0, 0, 0, 0, 0, 0, 0, 1, 0, 0, 0, 0, 1, 1, 1, 1, 1, 1,\n",
              "       1, 3, 0, 1, 1, 1, 1, 1, 1, 1, 1, 1, 1, 1, 1, 1, 1, 1, 1, 1, 1, 1,\n",
              "       1, 1, 1, 1, 1, 0, 3, 1, 1, 1, 1, 0, 3, 1, 1, 1, 3, 1, 1, 1, 1, 0,\n",
              "       1, 1, 1, 1, 1, 3, 3, 1, 1, 0, 1, 1, 1, 1, 1, 1, 1, 1, 1, 0, 1, 1,\n",
              "       1, 1, 1, 1, 1, 1, 4, 1, 1, 1, 1, 4, 1, 1, 1, 1, 4, 1, 1, 1, 1, 1,\n",
              "       1, 1, 1, 1, 1, 3, 1, 1, 1, 1, 1, 3, 1, 1, 1, 1, 0, 1, 0, 1, 1, 1,\n",
              "       1, 4, 1, 1, 1, 0, 0, 1, 1, 1, 1, 3, 4, 1, 1, 1, 1, 1, 0, 1, 1, 1,\n",
              "       0, 1, 1, 1, 1, 1, 1, 1, 1, 1, 1, 3, 0, 1, 3, 1, 1, 1, 1, 1, 1, 1,\n",
              "       1, 1, 1, 1, 1, 1, 1, 1, 1, 1, 1, 1, 1, 1, 1, 1, 1, 1, 1, 2, 2, 2,\n",
              "       2, 2, 4, 2, 2, 2, 2, 2, 2, 2, 4, 2, 2, 2, 2, 2, 2, 2, 2, 3, 2, 2,\n",
              "       4, 2, 2, 4, 2, 4, 4, 2, 2, 2, 4, 3, 2, 2, 2, 2, 2, 2, 2, 2, 2, 2,\n",
              "       2, 2, 2, 4, 2, 4, 2, 2, 4, 2, 2, 2, 2, 2, 2, 2, 4, 2, 2, 2, 2, 4,\n",
              "       2, 2, 2, 4, 4, 2, 1, 3, 2, 2, 2, 2, 2, 2, 2, 2, 2, 2, 2, 2, 2, 3,\n",
              "       0, 2, 4, 2, 2, 2, 3, 2, 2, 2, 1, 2, 4, 2, 3, 2, 2, 2, 2, 4, 2, 2,\n",
              "       2, 4, 2, 2, 0, 3, 2, 4, 2, 2, 2, 2, 2, 3, 4, 3, 3, 3, 3, 4, 3, 3,\n",
              "       3, 3, 3, 3, 3, 3, 3, 3, 3, 3, 3, 3, 0, 3, 3, 3, 3, 3, 2, 3, 3, 3,\n",
              "       3, 3, 3, 3, 2, 3, 3, 3, 3, 4, 3, 3, 3, 3, 3, 3, 3, 3, 3, 3, 3, 3,\n",
              "       3, 3, 3, 3, 1, 3, 3, 3, 3, 3, 3, 2, 3, 3, 1, 3, 3, 3, 3, 3, 3, 3,\n",
              "       3, 3, 3, 3, 3, 3, 3, 3, 3, 3, 3, 3, 1, 3, 3, 3, 3, 3, 3, 3, 3, 3,\n",
              "       3, 3, 3, 3, 3, 4, 4, 3, 3, 3, 3, 3, 3, 3, 3, 3, 3, 3, 0, 3, 3, 3,\n",
              "       1, 3, 3, 3, 3, 3, 3, 3, 3, 4, 3, 3, 3, 3, 3, 4, 1, 3, 3, 3, 3, 3,\n",
              "       4, 4, 4, 4, 4, 4, 4, 4, 4, 4, 2, 4, 4, 4, 4, 4, 4, 4, 4, 4, 4, 4,\n",
              "       4, 4, 4, 4, 0, 4, 4, 4, 4, 4, 4, 4, 4, 4, 4, 4, 4, 4, 4, 4, 4, 4,\n",
              "       4, 4, 4, 0, 4, 4, 4, 4, 4, 4, 4, 4, 4, 4, 4, 4, 0, 4, 4, 4, 4, 4,\n",
              "       4, 3, 3, 3, 4, 4, 3, 0, 4, 4, 4, 4, 4, 4, 4, 3, 4, 4, 4, 4, 4, 3,\n",
              "       2, 4, 4, 4, 4, 4, 4, 4, 4, 4, 4, 2, 4, 4, 4, 4, 3, 4, 4, 4, 4, 4,\n",
              "       4, 4, 4, 4, 4, 4, 4, 4, 4, 4, 1, 4, 4, 4, 4, 4, 4, 3, 3, 4, 4, 4,\n",
              "       0, 4, 1, 4, 4, 4, 4, 4, 4, 4, 4, 4, 4, 4, 4, 4, 4, 4, 4, 4, 4, 2,\n",
              "       4, 4, 4, 4, 4])>"
            ]
          },
          "metadata": {},
          "execution_count": 21
        }
      ]
    },
    {
      "cell_type": "code",
      "metadata": {
        "colab": {
          "base_uri": "https://localhost:8080/",
          "height": 35
        },
        "id": "HF2iBI5R8iem",
        "outputId": "52409416-c1c4-4a51-aa28-85551ab9bd50"
      },
      "source": [
        "idx_labels[0]"
      ],
      "execution_count": 22,
      "outputs": [
        {
          "output_type": "execute_result",
          "data": {
            "application/vnd.google.colaboratory.intrinsic+json": {
              "type": "string"
            },
            "text/plain": [
              "'daisy'"
            ]
          },
          "metadata": {},
          "execution_count": 22
        }
      ]
    },
    {
      "cell_type": "code",
      "metadata": {
        "colab": {
          "base_uri": "https://localhost:8080/"
        },
        "id": "dDZp5e__AonE",
        "outputId": "2eb39ca3-1b70-40f9-c79e-772243006780"
      },
      "source": [
        "label_reference = np.asarray(list(labels_idx))\n",
        "label_reference"
      ],
      "execution_count": 23,
      "outputs": [
        {
          "output_type": "execute_result",
          "data": {
            "text/plain": [
              "array(['daisy', 'dandelion', 'roses', 'sunflowers', 'tulips'],\n",
              "      dtype='<U10')"
            ]
          },
          "metadata": {},
          "execution_count": 23
        }
      ]
    },
    {
      "cell_type": "code",
      "metadata": {
        "id": "AQm_PURL_KDW"
      },
      "source": [
        "def find_label(idx):\n",
        "    return idx_labels[idx]"
      ],
      "execution_count": 24,
      "outputs": []
    },
    {
      "cell_type": "markdown",
      "metadata": {
        "id": "4ckl3-c9ga44"
      },
      "source": [
        "When we want to apply a a function to each element of a NumPy array, we need to vectorize it"
      ]
    },
    {
      "cell_type": "code",
      "metadata": {
        "id": "P92Ej8vR_06Q"
      },
      "source": [
        "find_label_batch = np.vectorize(find_label)\n",
        "result_class = find_label_batch(predicted_idx)"
      ],
      "execution_count": 25,
      "outputs": []
    },
    {
      "cell_type": "code",
      "metadata": {
        "colab": {
          "base_uri": "https://localhost:8080/",
          "height": 419
        },
        "id": "g6BDMhTw_TuK",
        "outputId": "65e0013a-41fb-4a3f-ff67-45469b6d24ca"
      },
      "source": [
        "import pandas as pd\n",
        "predicted_label = result_class.tolist()\n",
        "file_name = valid_generator.filenames\n",
        "\n",
        "results=pd.DataFrame({\"File\":file_name,\n",
        "                      \"Prediction\":predicted_label})\n",
        "results"
      ],
      "execution_count": 26,
      "outputs": [
        {
          "output_type": "execute_result",
          "data": {
            "text/html": [
              "<div>\n",
              "<style scoped>\n",
              "    .dataframe tbody tr th:only-of-type {\n",
              "        vertical-align: middle;\n",
              "    }\n",
              "\n",
              "    .dataframe tbody tr th {\n",
              "        vertical-align: top;\n",
              "    }\n",
              "\n",
              "    .dataframe thead th {\n",
              "        text-align: right;\n",
              "    }\n",
              "</style>\n",
              "<table border=\"1\" class=\"dataframe\">\n",
              "  <thead>\n",
              "    <tr style=\"text-align: right;\">\n",
              "      <th></th>\n",
              "      <th>File</th>\n",
              "      <th>Prediction</th>\n",
              "    </tr>\n",
              "  </thead>\n",
              "  <tbody>\n",
              "    <tr>\n",
              "      <th>0</th>\n",
              "      <td>daisy/100080576_f52e8ee070_n.jpg</td>\n",
              "      <td>daisy</td>\n",
              "    </tr>\n",
              "    <tr>\n",
              "      <th>1</th>\n",
              "      <td>daisy/10140303196_b88d3d6cec.jpg</td>\n",
              "      <td>daisy</td>\n",
              "    </tr>\n",
              "    <tr>\n",
              "      <th>2</th>\n",
              "      <td>daisy/10172379554_b296050f82_n.jpg</td>\n",
              "      <td>daisy</td>\n",
              "    </tr>\n",
              "    <tr>\n",
              "      <th>3</th>\n",
              "      <td>daisy/10172567486_2748826a8b.jpg</td>\n",
              "      <td>daisy</td>\n",
              "    </tr>\n",
              "    <tr>\n",
              "      <th>4</th>\n",
              "      <td>daisy/10172636503_21bededa75_n.jpg</td>\n",
              "      <td>daisy</td>\n",
              "    </tr>\n",
              "    <tr>\n",
              "      <th>...</th>\n",
              "      <td>...</td>\n",
              "      <td>...</td>\n",
              "    </tr>\n",
              "    <tr>\n",
              "      <th>726</th>\n",
              "      <td>tulips/14068200854_5c13668df9_m.jpg</td>\n",
              "      <td>tulips</td>\n",
              "    </tr>\n",
              "    <tr>\n",
              "      <th>727</th>\n",
              "      <td>tulips/14068295074_cd8b85bffa.jpg</td>\n",
              "      <td>tulips</td>\n",
              "    </tr>\n",
              "    <tr>\n",
              "      <th>728</th>\n",
              "      <td>tulips/14068348874_7b36c99f6a.jpg</td>\n",
              "      <td>tulips</td>\n",
              "    </tr>\n",
              "    <tr>\n",
              "      <th>729</th>\n",
              "      <td>tulips/14068378204_7b26baa30d_n.jpg</td>\n",
              "      <td>tulips</td>\n",
              "    </tr>\n",
              "    <tr>\n",
              "      <th>730</th>\n",
              "      <td>tulips/14071516088_b526946e17_n.jpg</td>\n",
              "      <td>tulips</td>\n",
              "    </tr>\n",
              "  </tbody>\n",
              "</table>\n",
              "<p>731 rows × 2 columns</p>\n",
              "</div>"
            ],
            "text/plain": [
              "                                    File Prediction\n",
              "0       daisy/100080576_f52e8ee070_n.jpg      daisy\n",
              "1       daisy/10140303196_b88d3d6cec.jpg      daisy\n",
              "2     daisy/10172379554_b296050f82_n.jpg      daisy\n",
              "3       daisy/10172567486_2748826a8b.jpg      daisy\n",
              "4     daisy/10172636503_21bededa75_n.jpg      daisy\n",
              "..                                   ...        ...\n",
              "726  tulips/14068200854_5c13668df9_m.jpg     tulips\n",
              "727    tulips/14068295074_cd8b85bffa.jpg     tulips\n",
              "728    tulips/14068348874_7b36c99f6a.jpg     tulips\n",
              "729  tulips/14068378204_7b26baa30d_n.jpg     tulips\n",
              "730  tulips/14071516088_b526946e17_n.jpg     tulips\n",
              "\n",
              "[731 rows x 2 columns]"
            ]
          },
          "metadata": {},
          "execution_count": 26
        }
      ]
    },
    {
      "cell_type": "code",
      "metadata": {
        "id": "Mp-6liBKGNif"
      },
      "source": [
        "y_actual = pd.Series(valid_generator.classes)\n",
        "y_predicted = pd.Series(predicted_idx)"
      ],
      "execution_count": 27,
      "outputs": []
    },
    {
      "cell_type": "code",
      "metadata": {
        "colab": {
          "base_uri": "https://localhost:8080/",
          "height": 266
        },
        "id": "vefQhRRaGlPt",
        "outputId": "fd5154c9-1b12-49cd-de5c-3034f26210ad"
      },
      "source": [
        "pd.crosstab(y_actual, y_predicted, rownames = ['Actual'], colnames=['Predicted'], margins=True)"
      ],
      "execution_count": 28,
      "outputs": [
        {
          "output_type": "execute_result",
          "data": {
            "text/html": [
              "<div>\n",
              "<style scoped>\n",
              "    .dataframe tbody tr th:only-of-type {\n",
              "        vertical-align: middle;\n",
              "    }\n",
              "\n",
              "    .dataframe tbody tr th {\n",
              "        vertical-align: top;\n",
              "    }\n",
              "\n",
              "    .dataframe thead th {\n",
              "        text-align: right;\n",
              "    }\n",
              "</style>\n",
              "<table border=\"1\" class=\"dataframe\">\n",
              "  <thead>\n",
              "    <tr style=\"text-align: right;\">\n",
              "      <th>Predicted</th>\n",
              "      <th>0</th>\n",
              "      <th>1</th>\n",
              "      <th>2</th>\n",
              "      <th>3</th>\n",
              "      <th>4</th>\n",
              "      <th>All</th>\n",
              "    </tr>\n",
              "    <tr>\n",
              "      <th>Actual</th>\n",
              "      <th></th>\n",
              "      <th></th>\n",
              "      <th></th>\n",
              "      <th></th>\n",
              "      <th></th>\n",
              "      <th></th>\n",
              "    </tr>\n",
              "  </thead>\n",
              "  <tbody>\n",
              "    <tr>\n",
              "      <th>0</th>\n",
              "      <td>120</td>\n",
              "      <td>2</td>\n",
              "      <td>0</td>\n",
              "      <td>3</td>\n",
              "      <td>1</td>\n",
              "      <td>126</td>\n",
              "    </tr>\n",
              "    <tr>\n",
              "      <th>1</th>\n",
              "      <td>13</td>\n",
              "      <td>150</td>\n",
              "      <td>0</td>\n",
              "      <td>11</td>\n",
              "      <td>5</td>\n",
              "      <td>179</td>\n",
              "    </tr>\n",
              "    <tr>\n",
              "      <th>2</th>\n",
              "      <td>2</td>\n",
              "      <td>2</td>\n",
              "      <td>96</td>\n",
              "      <td>8</td>\n",
              "      <td>20</td>\n",
              "      <td>128</td>\n",
              "    </tr>\n",
              "    <tr>\n",
              "      <th>3</th>\n",
              "      <td>2</td>\n",
              "      <td>5</td>\n",
              "      <td>3</td>\n",
              "      <td>123</td>\n",
              "      <td>6</td>\n",
              "      <td>139</td>\n",
              "    </tr>\n",
              "    <tr>\n",
              "      <th>4</th>\n",
              "      <td>5</td>\n",
              "      <td>2</td>\n",
              "      <td>4</td>\n",
              "      <td>9</td>\n",
              "      <td>139</td>\n",
              "      <td>159</td>\n",
              "    </tr>\n",
              "    <tr>\n",
              "      <th>All</th>\n",
              "      <td>142</td>\n",
              "      <td>161</td>\n",
              "      <td>103</td>\n",
              "      <td>154</td>\n",
              "      <td>171</td>\n",
              "      <td>731</td>\n",
              "    </tr>\n",
              "  </tbody>\n",
              "</table>\n",
              "</div>"
            ],
            "text/plain": [
              "Predicted    0    1    2    3    4  All\n",
              "Actual                                 \n",
              "0          120    2    0    3    1  126\n",
              "1           13  150    0   11    5  179\n",
              "2            2    2   96    8   20  128\n",
              "3            2    5    3  123    6  139\n",
              "4            5    2    4    9  139  159\n",
              "All        142  161  103  154  171  731"
            ]
          },
          "metadata": {},
          "execution_count": 28
        }
      ]
    },
    {
      "cell_type": "markdown",
      "metadata": {
        "id": "TfT18rL5bIqu"
      },
      "source": [
        "- Class 0: Daisy\n",
        "- Class 1: Dandelion\n",
        "- Class 2: Roses\n",
        "- Class 3: Sunflowers\n",
        "- Class 4: Tulips"
      ]
    },
    {
      "cell_type": "code",
      "metadata": {
        "id": "gGaYy4kwG4qR"
      },
      "source": [
        "predicted_results = y_predicted\n",
        "truth = y_actual"
      ],
      "execution_count": 29,
      "outputs": []
    },
    {
      "cell_type": "code",
      "metadata": {
        "colab": {
          "base_uri": "https://localhost:8080/"
        },
        "id": "hMX1lcWkIYQB",
        "outputId": "f352ff11-b260-4d7a-c85e-5599ebc09608"
      },
      "source": [
        "type(predicted_results[0])"
      ],
      "execution_count": 30,
      "outputs": [
        {
          "output_type": "execute_result",
          "data": {
            "text/plain": [
              "numpy.int64"
            ]
          },
          "metadata": {},
          "execution_count": 30
        }
      ]
    },
    {
      "cell_type": "code",
      "metadata": {
        "id": "yD7zlLsrIAoH"
      },
      "source": [
        "from sklearn.metrics import classification_report\n",
        "report = classification_report(truth, predicted_results)\n"
      ],
      "execution_count": 31,
      "outputs": []
    },
    {
      "cell_type": "code",
      "metadata": {
        "colab": {
          "base_uri": "https://localhost:8080/"
        },
        "id": "7a0_ij9tBcyE",
        "outputId": "5ff54132-e3e7-49e0-a43e-2b09cb1e2808"
      },
      "source": [
        "print(report)"
      ],
      "execution_count": 32,
      "outputs": [
        {
          "output_type": "stream",
          "name": "stdout",
          "text": [
            "              precision    recall  f1-score   support\n",
            "\n",
            "           0       0.85      0.95      0.90       126\n",
            "           1       0.93      0.84      0.88       179\n",
            "           2       0.93      0.75      0.83       128\n",
            "           3       0.80      0.88      0.84       139\n",
            "           4       0.81      0.87      0.84       159\n",
            "\n",
            "    accuracy                           0.86       731\n",
            "   macro avg       0.86      0.86      0.86       731\n",
            "weighted avg       0.87      0.86      0.86       731\n",
            "\n"
          ]
        }
      ]
    },
    {
      "cell_type": "markdown",
      "metadata": {
        "id": "Hp0c2REEyF_B"
      },
      "source": [
        "## tf.keras.applications module "
      ]
    },
    {
      "cell_type": "code",
      "metadata": {
        "colab": {
          "base_uri": "https://localhost:8080/"
        },
        "id": "WW3y3URlFzuO",
        "outputId": "b34797b4-64fc-438a-8617-ba8f290f2f00"
      },
      "source": [
        "base_model = tf.keras.applications.ResNet101V2(input_shape = (224, 224, 3), include_top = False, weights = 'imagenet')"
      ],
      "execution_count": 33,
      "outputs": [
        {
          "output_type": "stream",
          "name": "stdout",
          "text": [
            "Downloading data from https://storage.googleapis.com/tensorflow/keras-applications/resnet/resnet101v2_weights_tf_dim_ordering_tf_kernels_notop.h5\n",
            "171319296/171317808 [==============================] - 5s 0us/step\n",
            "171327488/171317808 [==============================] - 5s 0us/step\n"
          ]
        }
      ]
    },
    {
      "cell_type": "code",
      "metadata": {
        "id": "80wR6nWLxdcH"
      },
      "source": [
        "model2 = tf.keras.Sequential([\n",
        "  base_model,\n",
        "  tf.keras.layers.GlobalAveragePooling2D(),\n",
        "  tf.keras.layers.Dense(NUM_CLASSES, activation = 'softmax', name = 'flower_class')\n",
        "])"
      ],
      "execution_count": 34,
      "outputs": []
    },
    {
      "cell_type": "code",
      "metadata": {
        "id": "XLGtq6A0zCVB",
        "colab": {
          "base_uri": "https://localhost:8080/"
        },
        "outputId": "1a5cdaf6-c5d5-4714-fd7a-d625abedc99a"
      },
      "source": [
        "model2.compile(\n",
        "  optimizer=tf.keras.optimizers.SGD(lr=0.005, momentum=0.9), \n",
        "  loss=tf.keras.losses.CategoricalCrossentropy(from_logits=True, label_smoothing=0.1),\n",
        "  metrics=['accuracy']\n",
        ")"
      ],
      "execution_count": 35,
      "outputs": [
        {
          "output_type": "stream",
          "name": "stderr",
          "text": [
            "/usr/local/lib/python3.7/dist-packages/keras/optimizer_v2/optimizer_v2.py:356: UserWarning: The `lr` argument is deprecated, use `learning_rate` instead.\n",
            "  \"The `lr` argument is deprecated, use `learning_rate` instead.\")\n"
          ]
        }
      ]
    },
    {
      "cell_type": "markdown",
      "metadata": {
        "id": "ee5otPS5gCiN"
      },
      "source": [
        "label"
      ]
    },
    {
      "cell_type": "code",
      "metadata": {
        "colab": {
          "base_uri": "https://localhost:8080/"
        },
        "id": "cuOzcRxcy0PW",
        "outputId": "693d38ce-6fbf-4174-f49e-3961a939be9a"
      },
      "source": [
        "model2.fit(\n",
        "    train_generator,\n",
        "    epochs=5, steps_per_epoch=steps_per_epoch,\n",
        "    validation_data=valid_generator,\n",
        "    validation_steps=validation_steps)"
      ],
      "execution_count": 36,
      "outputs": [
        {
          "output_type": "stream",
          "name": "stdout",
          "text": [
            "Epoch 1/5\n"
          ]
        },
        {
          "output_type": "stream",
          "name": "stderr",
          "text": [
            "/usr/local/lib/python3.7/dist-packages/keras/backend.py:4847: UserWarning: \"`categorical_crossentropy` received `from_logits=True`, but the `output` argument was produced by a sigmoid or softmax activation and thus does not represent logits. Was this intended?\"\n",
            "  '\"`categorical_crossentropy` received `from_logits=True`, but '\n"
          ]
        },
        {
          "output_type": "stream",
          "name": "stdout",
          "text": [
            "91/91 [==============================] - 124s 1s/step - loss: 0.7800 - accuracy: 0.8170 - val_loss: 0.7508 - val_accuracy: 0.8608\n",
            "Epoch 2/5\n",
            "91/91 [==============================] - 107s 1s/step - loss: 0.4746 - accuracy: 0.9787 - val_loss: 0.6341 - val_accuracy: 0.8949\n",
            "Epoch 3/5\n",
            "91/91 [==============================] - 107s 1s/step - loss: 0.4246 - accuracy: 0.9990 - val_loss: 0.5942 - val_accuracy: 0.9119\n",
            "Epoch 4/5\n",
            "91/91 [==============================] - 107s 1s/step - loss: 0.4135 - accuracy: 0.9993 - val_loss: 0.5908 - val_accuracy: 0.9148\n",
            "Epoch 5/5\n",
            "91/91 [==============================] - 107s 1s/step - loss: 0.4106 - accuracy: 0.9997 - val_loss: 0.5971 - val_accuracy: 0.9091\n"
          ]
        },
        {
          "output_type": "execute_result",
          "data": {
            "text/plain": [
              "<keras.callbacks.History at 0x7f91c2612ed0>"
            ]
          },
          "metadata": {},
          "execution_count": 36
        }
      ]
    },
    {
      "cell_type": "markdown",
      "metadata": {
        "id": "6gryNRV31J4C"
      },
      "source": [
        "## Fine tuning\n"
      ]
    },
    {
      "cell_type": "code",
      "metadata": {
        "colab": {
          "base_uri": "https://localhost:8080/"
        },
        "id": "IJuYLSPFzApB",
        "outputId": "52204b97-d062-43d0-9224-7ba1ab4f1109"
      },
      "source": [
        "base_model.trainable = True\n",
        "print(\"Number of layers in the base model: \", len(base_model.layers))"
      ],
      "execution_count": 37,
      "outputs": [
        {
          "output_type": "stream",
          "name": "stdout",
          "text": [
            "Number of layers in the base model:  377\n"
          ]
        }
      ]
    },
    {
      "cell_type": "code",
      "metadata": {
        "id": "mmkRP8b81V3R"
      },
      "source": [
        "# Fine tune from this layer and onwards\n",
        "fine_tune_at = 300"
      ],
      "execution_count": 38,
      "outputs": []
    },
    {
      "cell_type": "code",
      "metadata": {
        "id": "pt7g4vYU1hVa"
      },
      "source": [
        "# Freeze all the layers before the 'fine_tune_at' layer\n",
        "for layer in base_model.layers[: fine_tune_at]:\n",
        "  layer.trainable = False"
      ],
      "execution_count": 39,
      "outputs": []
    },
    {
      "cell_type": "code",
      "metadata": {
        "id": "d5n-Pg40Jtc9"
      },
      "source": [
        "model3 = tf.keras.Sequential([\n",
        "  base_model,\n",
        "  tf.keras.layers.GlobalAveragePooling2D(),\n",
        "  tf.keras.layers.Dense(NUM_CLASSES, activation = 'softmax', name = 'flower_class')\n",
        "])"
      ],
      "execution_count": 40,
      "outputs": []
    },
    {
      "cell_type": "code",
      "metadata": {
        "id": "r34UHGyQ1wJI",
        "colab": {
          "base_uri": "https://localhost:8080/"
        },
        "outputId": "8fd1057c-3e55-4ec5-e700-52b1b48e50eb"
      },
      "source": [
        "model3.compile(\n",
        "  optimizer=tf.keras.optimizers.SGD(lr=0.005, momentum=0.9), \n",
        "  loss=tf.keras.losses.CategoricalCrossentropy(from_logits=True, label_smoothing=0.1),\n",
        "  metrics=['accuracy']\n",
        ")"
      ],
      "execution_count": 41,
      "outputs": [
        {
          "output_type": "stream",
          "name": "stderr",
          "text": [
            "/usr/local/lib/python3.7/dist-packages/keras/optimizer_v2/optimizer_v2.py:356: UserWarning: The `lr` argument is deprecated, use `learning_rate` instead.\n",
            "  \"The `lr` argument is deprecated, use `learning_rate` instead.\")\n"
          ]
        }
      ]
    },
    {
      "cell_type": "code",
      "metadata": {
        "colab": {
          "base_uri": "https://localhost:8080/"
        },
        "id": "_Mi7nuxt110J",
        "outputId": "e0f2e732-f4dd-4ccc-c8da-a3ab6b1bd824"
      },
      "source": [
        "fine_tune_epochs = 2\n",
        "steps_per_epoch = train_generator.samples // train_generator.batch_size\n",
        "validation_steps = valid_generator.samples // valid_generator.batch_size\n",
        "model3.fit(\n",
        "    train_generator,\n",
        "    epochs=fine_tune_epochs, steps_per_epoch=steps_per_epoch,\n",
        "    validation_data=valid_generator,\n",
        "    validation_steps=validation_steps)"
      ],
      "execution_count": 42,
      "outputs": [
        {
          "output_type": "stream",
          "name": "stdout",
          "text": [
            "Epoch 1/2\n"
          ]
        },
        {
          "output_type": "stream",
          "name": "stderr",
          "text": [
            "/usr/local/lib/python3.7/dist-packages/keras/backend.py:4847: UserWarning: \"`categorical_crossentropy` received `from_logits=True`, but the `output` argument was produced by a sigmoid or softmax activation and thus does not represent logits. Was this intended?\"\n",
            "  '\"`categorical_crossentropy` received `from_logits=True`, but '\n"
          ]
        },
        {
          "output_type": "stream",
          "name": "stdout",
          "text": [
            "91/91 [==============================] - 60s 576ms/step - loss: 0.5296 - accuracy: 0.9567 - val_loss: 0.6291 - val_accuracy: 0.8949\n",
            "Epoch 2/2\n",
            "91/91 [==============================] - 50s 553ms/step - loss: 0.4182 - accuracy: 0.9993 - val_loss: 0.6134 - val_accuracy: 0.9006\n"
          ]
        },
        {
          "output_type": "execute_result",
          "data": {
            "text/plain": [
              "<keras.callbacks.History at 0x7f91b6cf1c50>"
            ]
          },
          "metadata": {},
          "execution_count": 42
        }
      ]
    },
    {
      "cell_type": "code",
      "metadata": {
        "id": "t7DCUgEc2ZZ9"
      },
      "source": [
        "model3 = tf.keras.Sequential([\n",
        "  base_model,\n",
        "  tf.keras.layers.Flatten(),\n",
        "  tf.keras.layers.Dense(NUM_CLASSES, activation = 'softmax', name = 'flower_class')\n",
        "])"
      ],
      "execution_count": 43,
      "outputs": []
    },
    {
      "cell_type": "code",
      "metadata": {
        "id": "xT9wk07s6A_B",
        "colab": {
          "base_uri": "https://localhost:8080/"
        },
        "outputId": "ebb7909d-159c-4219-dcb2-0df343c1dd26"
      },
      "source": [
        "model3.compile(\n",
        "  optimizer=tf.keras.optimizers.SGD(lr=0.005, momentum=0.9), \n",
        "  loss=tf.keras.losses.CategoricalCrossentropy(from_logits=True, label_smoothing=0.1),\n",
        "  metrics=['accuracy']\n",
        ")"
      ],
      "execution_count": 44,
      "outputs": [
        {
          "output_type": "stream",
          "name": "stderr",
          "text": [
            "/usr/local/lib/python3.7/dist-packages/keras/optimizer_v2/optimizer_v2.py:356: UserWarning: The `lr` argument is deprecated, use `learning_rate` instead.\n",
            "  \"The `lr` argument is deprecated, use `learning_rate` instead.\")\n"
          ]
        }
      ]
    },
    {
      "cell_type": "code",
      "metadata": {
        "colab": {
          "base_uri": "https://localhost:8080/"
        },
        "id": "5KCb_n4Y6NQW",
        "outputId": "20b70eda-e1a5-46ce-85cb-2b38fa242e58"
      },
      "source": [
        "model3.summary()"
      ],
      "execution_count": 45,
      "outputs": [
        {
          "output_type": "stream",
          "name": "stdout",
          "text": [
            "Model: \"sequential_3\"\n",
            "_________________________________________________________________\n",
            "Layer (type)                 Output Shape              Param #   \n",
            "=================================================================\n",
            "resnet101v2 (Functional)     (None, 7, 7, 2048)        42626560  \n",
            "_________________________________________________________________\n",
            "flatten (Flatten)            (None, 100352)            0         \n",
            "_________________________________________________________________\n",
            "flower_class (Dense)         (None, 5)                 501765    \n",
            "=================================================================\n",
            "Total params: 43,128,325\n",
            "Trainable params: 19,680,773\n",
            "Non-trainable params: 23,447,552\n",
            "_________________________________________________________________\n"
          ]
        }
      ]
    },
    {
      "cell_type": "code",
      "metadata": {
        "colab": {
          "base_uri": "https://localhost:8080/"
        },
        "id": "LiN_qwTF6FEl",
        "outputId": "3afdbb04-303f-4704-f7b9-eddd773cbc24"
      },
      "source": [
        "model3.fit(\n",
        "    train_generator,\n",
        "    epochs=5, steps_per_epoch=steps_per_epoch,\n",
        "    validation_data=valid_generator,\n",
        "    validation_steps=validation_steps)"
      ],
      "execution_count": 46,
      "outputs": [
        {
          "output_type": "stream",
          "name": "stdout",
          "text": [
            "Epoch 1/5\n"
          ]
        },
        {
          "output_type": "stream",
          "name": "stderr",
          "text": [
            "/usr/local/lib/python3.7/dist-packages/keras/backend.py:4847: UserWarning: \"`categorical_crossentropy` received `from_logits=True`, but the `output` argument was produced by a sigmoid or softmax activation and thus does not represent logits. Was this intended?\"\n",
            "  '\"`categorical_crossentropy` received `from_logits=True`, but '\n"
          ]
        },
        {
          "output_type": "stream",
          "name": "stdout",
          "text": [
            "91/91 [==============================] - 60s 578ms/step - loss: 1.4480 - accuracy: 0.8858 - val_loss: 1578875.2500 - val_accuracy: 0.2642\n",
            "Epoch 2/5\n",
            "91/91 [==============================] - 51s 554ms/step - loss: 6.0391 - accuracy: 0.7262 - val_loss: 640910.4375 - val_accuracy: 0.2230\n",
            "Epoch 3/5\n",
            "91/91 [==============================] - 50s 552ms/step - loss: 11.3154 - accuracy: 0.4482 - val_loss: 71921.1250 - val_accuracy: 0.3125\n",
            "Epoch 4/5\n",
            "91/91 [==============================] - 50s 551ms/step - loss: 8.9275 - accuracy: 0.3375 - val_loss: 103.1704 - val_accuracy: 0.3935\n",
            "Epoch 5/5\n",
            "91/91 [==============================] - 50s 549ms/step - loss: 7.5864 - accuracy: 0.3364 - val_loss: 50.0344 - val_accuracy: 0.4048\n"
          ]
        },
        {
          "output_type": "execute_result",
          "data": {
            "text/plain": [
              "<keras.callbacks.History at 0x7f91aefc5b90>"
            ]
          },
          "metadata": {},
          "execution_count": 46
        }
      ]
    },
    {
      "cell_type": "code",
      "metadata": {
        "id": "fB2vepgG6Imp"
      },
      "source": [
        ""
      ],
      "execution_count": 46,
      "outputs": []
    }
  ]
}